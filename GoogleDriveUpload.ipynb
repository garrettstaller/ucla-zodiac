{
 "cells": [
  {
   "cell_type": "markdown",
   "id": "75355550-de6e-4801-a75c-7d7dd30a953a",
   "metadata": {
    "tags": []
   },
   "source": [
    "# Google Drive Uploads "
   ]
  },
  {
   "cell_type": "markdown",
   "id": "453f75a5-3958-4e90-bce0-02c4e6b97978",
   "metadata": {},
   "source": [
    "To import **only** the surface sampler data from the google drive, use z drive to access the drive and pull data directly. The surface sampler data is divided admidst the drive based on the year, so the loop will run through all years, changing the output directory for each resepctive folder ID. This will import all the data from the year and place it in the respective directory. <p> **User must ensure that output directories are already made, and specify their path except for the specific year in the final loop (cell block).**"
   ]
  },
  {
   "cell_type": "code",
   "execution_count": null,
   "id": "9e70cef1-c9fe-49dd-9ffa-b3887df2ed2e",
   "metadata": {},
   "outputs": [],
   "source": [
    "from zdrive import Downloader"
   ]
  },
  {
   "cell_type": "markdown",
   "id": "f2e11ac8-0f9f-43a2-a082-957ee0c21494",
   "metadata": {},
   "source": [
    "This is an example below, which imports the 2015 data. The `output_directory` is the local python directory we want to add the data to. The `folder_id` is the respective google drive folder ID that the .txt files are located in. Using the downloader function, we can take the data from our drive to the local python directory.  "
   ]
  },
  {
   "cell_type": "code",
   "execution_count": null,
   "id": "4d2fe4ec-7fa8-4446-87cb-9166ed18f277",
   "metadata": {},
   "outputs": [],
   "source": [
    "output_directory = \"C:\\\\Users\\\\gmanh\\\\OneDrive\\\\Documents\\\\UCLA\\\\SMB Ocean Weather\\\\New Surface Sampler Data\\\\2015\"\n",
    "d = Downloader()\n",
    "folder_id = '1EtloACXo91WG8lJ7oZf6h6rnWbD2vQk6'\n",
    "d.downloadFolder(folder_id, destinationFolder=output_directory)"
   ]
  },
  {
   "cell_type": "markdown",
   "id": "04000b11-f86e-4a50-8956-8d4d83a5f208",
   "metadata": {},
   "source": [
    "With the 2015 data properly downloaded, we will now upload the rest of the years data using a loop to conserve time."
   ]
  },
  {
   "cell_type": "code",
   "execution_count": null,
   "id": "1dd3af5f-8ff8-4df9-bc62-bdae0f2df254",
   "metadata": {},
   "outputs": [],
   "source": [
    "### LISTS TO SOURCE FROM ###\n",
    "\n",
    "# This is the list for each year of data \n",
    "list_of_years = ['2016', '2017', '2018', '2019', '2020', '2021', '2022', '2023', '2024']\n",
    "\n",
    "# This is the list of each years respective folder id from the drive \n",
    "list_of_ID = ['1dhX7q3n4VQd1mKcZYigjxkbogFX4kpJJ', '10yqhbUUk_Je8iPLwBJZ8fdZpu5crigXo', \n",
    "              '1EN5B3h95_aECe3qfVfH-d9JjqnBWqAND', '1scUq4104L472cwkiYIPI27pdRLJhoTKX',\n",
    "              '19LeMNC3oqRoElzHTqwyr5a8WXsp4Wmgo', '1EPL6WULI_SImeKSsOizG5l0PsSyJAPgQ',\n",
    "              '1-DKhExytuep01EC48_pBGSV_VcA3cdgA', '1WeutZlroH5Abw7D_get6AP07YnPgYoiD', \n",
    "              '1Hbk1cMc5_NH9krvw7awMSgd6GaUC-9Z7']"
   ]
  },
  {
   "cell_type": "code",
   "execution_count": null,
   "id": "5fd51646-805d-4eb0-85f3-fcf4362b7a76",
   "metadata": {},
   "outputs": [],
   "source": [
    "for i in range(len(list_of_years)):\n",
    "    # First select the right year, and its respective ID by indexing above list\n",
    "    year = list_of_years[i]\n",
    "    ID = list_of_ID[i]\n",
    "    # Now place these variables into the following variables\n",
    "    output_directory = f'\\path\\to\\directory\\\\{year}'\n",
    "    folder_id = ID\n",
    "    # With the above varibables defined we can run the downloader function,\n",
    "    # such that each directory will be filled as the loop progresses\n",
    "    d = Downloader()\n",
    "    d.downloadFolder(folder_id, destinationFolder=output_directory)"
   ]
  }
 ],
 "metadata": {
  "kernelspec": {
   "display_name": "Python 3 (ipykernel)",
   "language": "python",
   "name": "python3"
  },
  "language_info": {
   "codemirror_mode": {
    "name": "ipython",
    "version": 3
   },
   "file_extension": ".py",
   "mimetype": "text/x-python",
   "name": "python",
   "nbconvert_exporter": "python",
   "pygments_lexer": "ipython3",
   "version": "3.9.12"
  }
 },
 "nbformat": 4,
 "nbformat_minor": 5
}
